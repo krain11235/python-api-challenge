{
 "cells": [
  {
   "cell_type": "markdown",
   "metadata": {},
   "source": [
    "# VacationPy\n",
    "---\n",
    "\n",
    "## Starter Code to Import Libraries and Load the Weather and Coordinates Data"
   ]
  },
  {
   "cell_type": "code",
   "execution_count": null,
   "metadata": {},
   "outputs": [],
   "source": [
    "# Dependencies and Setup\n",
    "import hvplot.pandas\n",
    "import pandas as pd\n",
    "import requests\n",
    "import cartopy.crs as ccrs\n",
    "import geoviews as gv\n",
    "import pyproj\n",
    "import json\n",
    "\n",
    "# Import API key\n",
    "from api_keys import geoapify_key"
   ]
  },
  {
   "cell_type": "code",
   "execution_count": null,
   "metadata": {},
   "outputs": [],
   "source": [
    "# Load the CSV file created in Part 1 into a Pandas DataFrame\n",
    "city_data_df = pd.read_csv(\"output_data/cities.csv\")\n",
    "\n",
    "# Display sample data\n",
    "city_data_df.head()"
   ]
  },
  {
   "cell_type": "code",
   "execution_count": null,
   "metadata": {},
   "outputs": [],
   "source": [
    "\n",
    "def kelvin_to_fahrenheit(temp):\n",
    "    return (temp - 273.15) * 9/5 + 32\n",
    "\n",
    "# Convert the 'Max Temp' column from Kelvin to Fahrenheit\n",
    "city_data_df['Max Temp'] = city_data_df['Max Temp'].apply(kelvin_to_fahrenheit)\n",
    "city_data_df \n"
   ]
  },
  {
   "cell_type": "markdown",
   "metadata": {},
   "source": [
    "---\n",
    "\n",
    "### Step 1: Create a map that displays a point for every city in the `city_data_df` DataFrame. The size of the point should be the humidity in each city."
   ]
  },
  {
   "cell_type": "code",
   "execution_count": null,
   "metadata": {},
   "outputs": [],
   "source": [
    "\n",
    "coordinates ={\n",
    "    'latitude':city_data_df['Lat'],\n",
    "    'longitude':city_data_df['Lng'],\n",
    "    'city':city_data_df['City'],\n",
    "    'humidity':city_data_df['Humidity']\n",
    "}\n",
    "\n",
    "coordinates_df = pd.DataFrame(coordinates)\n",
    "\n",
    "\n",
    "# Configure the map plot\n",
    "# YOUR CODE HERE\n",
    "map_plot = coordinates_df.hvplot.points(\n",
    "    'longitude',\n",
    "    'latitude',\n",
    "    geo = True,\n",
    "    tiles = 'OSM',\n",
    "    frame_width = 700,\n",
    "    frame_height = 500,\n",
    "    size = 'humidity',\n",
    "    scale = 1.5)\n",
    "# Display the map\n",
    "map_plot\n",
    "\n",
    "#coordinates_df"
   ]
  },
  {
   "cell_type": "code",
   "execution_count": null,
   "metadata": {},
   "outputs": [],
   "source": [
    "#humidity_type = coordinates_df['humidity'].dtypes\n",
    "#print(humidity_type)\n",
    "#clean_check_df = coordinates_df.dropna()\n",
    "#clean_check_df"
   ]
  },
  {
   "cell_type": "markdown",
   "metadata": {},
   "source": [
    "### Step 2: Narrow down the `city_data_df` DataFrame to find your ideal weather condition"
   ]
  },
  {
   "cell_type": "code",
   "execution_count": null,
   "metadata": {},
   "outputs": [],
   "source": []
  },
  {
   "cell_type": "code",
   "execution_count": null,
   "metadata": {},
   "outputs": [],
   "source": [
    "# Narrow down cities that fit criteria and drop any results with null values\n",
    "conditions_df = city_data_df[(city_data_df[\"Cloudiness\"]<40) & (city_data_df[\"Humidity\"]<50) &\n",
    "                                (city_data_df[\"Max Temp\"]>60) & (city_data_df[\"Max Temp\"]<80)]\n",
    "\n",
    "\n",
    "# Drop any rows with null values\n",
    "conditions_df = conditions_df.dropna()\n",
    "conditions_df\n",
    "# Display sample data\n",
    "conditions_df"
   ]
  },
  {
   "cell_type": "markdown",
   "metadata": {},
   "source": [
    "### Step 3: Create a new DataFrame called `hotel_df`."
   ]
  },
  {
   "cell_type": "code",
   "execution_count": null,
   "metadata": {},
   "outputs": [],
   "source": []
  },
  {
   "cell_type": "code",
   "execution_count": null,
   "metadata": {},
   "outputs": [],
   "source": [
    "# Use the Pandas copy function to create DataFrame called hotel_df to store the city, country, coordinates, and humidity\n",
    "conditions_copy = conditions_df.copy()\n",
    "\n",
    "# Add an empty column, \"Hotel Name,\" to the DataFrame so you can store the hotel found using the Geoapify API\n",
    "hotel_df = conditions_copy.loc[:,['City','Country','Lat','Lng','Humidity']]\n",
    "hotel_df['Hotel'] = ''\n",
    "\n",
    "# Display sample data\n",
    "hotel_df.head()"
   ]
  },
  {
   "cell_type": "markdown",
   "metadata": {},
   "source": [
    "### Step 4: For each city, use the Geoapify API to find the first hotel located within 10,000 metres of your coordinates."
   ]
  },
  {
   "cell_type": "code",
   "execution_count": null,
   "metadata": {},
   "outputs": [],
   "source": [
    "# Set parameters to search for a hotel\n",
    "radius = 10000\n",
    "params = {\n",
    "    'radius':radius,\n",
    "    'categories':'accommodation.hotel',\n",
    "    'apiKey':geoapify_key,\n",
    "    #'key':\"43172dd314e24eb0a69e400f78a709a5\"\n",
    "}\n",
    "\n",
    "# Print a message to follow up the hotel search\n",
    "print(\"Starting hotel search\")\n",
    "\n",
    "# Iterate through the hotel_df DataFrame\n",
    "for index, row in hotel_df.iterrows():\n",
    "    # get latitude, longitude from the DataFrame\n",
    "    latitude = row[\"Lat\"]\n",
    "    longitude = row[\"Lng\"]\n",
    "    \n",
    "    # Add filter and bias parameters with the current city's latitude and longitude to the params dictionary\n",
    "    params[\"filter\"] = f\"circle:{longitude},{latitude},{radius}\"\n",
    "    params[\"bias\"] = f\"proximity:{longitude},{latitude}\"\n",
    "    \n",
    "    # Set base URL\n",
    "    base_url = \"https://api.geoapify.com/v2/places\"\n",
    "\n",
    "\n",
    "    # Make and API request using the params dictionaty\n",
    "    response = requests.get(base_url, params=params)\n",
    "    name_address = response.json()\n",
    "    \n",
    "    # Convert the API response to JSON format\n",
    "    name_address = response.json()\n",
    "    # Grab the first hotel from the results and store the name in the hotel_df DataFrame\n",
    "    try:\n",
    "        hotel_df.loc[index, \"Hotel Name\"] = name_address[\"features\"][0][\"properties\"][\"name\"]\n",
    "    except (KeyError, IndexError):\n",
    "        # If no hotel is found, set the hotel name as \"No hotel found\".\n",
    "        hotel_df.loc[index, \"Hotel Name\"] = \"No hotel found\"\n",
    "        \n",
    "    # Log the search results\n",
    "    print(f\"{hotel_df.loc[index, 'City']} - nearest hotel: {hotel_df.loc[index, 'Hotel Name']}\")\n",
    "\n",
    "# Display sample data\n",
    "hotel_df\n",
    "\n",
    "name_address"
   ]
  },
  {
   "cell_type": "code",
   "execution_count": null,
   "metadata": {},
   "outputs": [],
   "source": [
    "hotel_df"
   ]
  },
  {
   "cell_type": "markdown",
   "metadata": {},
   "source": [
    "### Step 5: Add the hotel name and the country as additional information in the hover message for each city in the map."
   ]
  },
  {
   "cell_type": "code",
   "execution_count": null,
   "metadata": {},
   "outputs": [],
   "source": [
    "%%capture --no-display\n",
    "\n",
    "# Configure the map plot\n",
    "hotel_plot = hotel_df.hvplot.points(\n",
    "    \"Lng\",\n",
    "    \"Lat\",\n",
    "    geo = True,\n",
    "    tiles = \"OSM\",\n",
    "    frame_width = 800,\n",
    "    frame_height = 600,\n",
    "    size = \"Humidity\",\n",
    "    color=\"City\",\n",
    "    alpha=.75,\n",
    "    hover_cols=[\"Hotel Name\", \"Country\"]\n",
    ")\n",
    "\n",
    "# Display the map\n",
    "hotel_plot"
   ]
  },
  {
   "cell_type": "code",
   "execution_count": null,
   "metadata": {},
   "outputs": [],
   "source": []
  }
 ],
 "metadata": {
  "kernelspec": {
   "display_name": "Python 3 (ipykernel)",
   "language": "python",
   "name": "python3"
  },
  "language_info": {
   "codemirror_mode": {
    "name": "ipython",
    "version": 3
   },
   "file_extension": ".py",
   "mimetype": "text/x-python",
   "name": "python",
   "nbconvert_exporter": "python",
   "pygments_lexer": "ipython3",
   "version": "3.10.9"
  },
  "latex_envs": {
   "LaTeX_envs_menu_present": true,
   "autoclose": false,
   "autocomplete": true,
   "bibliofile": "biblio.bib",
   "cite_by": "apalike",
   "current_citInitial": 1,
   "eqLabelWithNumbers": true,
   "eqNumInitial": 1,
   "hotkeys": {
    "equation": "Ctrl-E",
    "itemize": "Ctrl-I"
   },
   "labels_anchors": false,
   "latex_user_defs": false,
   "report_style_numbering": false,
   "user_envs_cfg": false
  }
 },
 "nbformat": 4,
 "nbformat_minor": 4
}
